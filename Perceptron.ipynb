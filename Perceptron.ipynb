{
  "nbformat": 4,
  "nbformat_minor": 0,
  "metadata": {
    "colab": {
      "provenance": [],
      "mount_file_id": "1cjgbVOcNiErEaZx4Bx8ocR9wYD3yN21J",
      "authorship_tag": "ABX9TyOcWlKspQhpeta74IP+QfL5",
      "include_colab_link": true
    },
    "kernelspec": {
      "name": "python3",
      "display_name": "Python 3"
    },
    "language_info": {
      "name": "python"
    }
  },
  "cells": [
    {
      "cell_type": "markdown",
      "metadata": {
        "id": "view-in-github",
        "colab_type": "text"
      },
      "source": [
        "<a href=\"https://colab.research.google.com/github/Gyawalisahaj/Deeplearn/blob/main/Perceptron.ipynb\" target=\"_parent\"><img src=\"https://colab.research.google.com/assets/colab-badge.svg\" alt=\"Open In Colab\"/></a>"
      ]
    },
    {
      "cell_type": "code",
      "execution_count": 2,
      "metadata": {
        "id": "nvGiNd_5OA6v"
      },
      "outputs": [],
      "source": [
        "import numpy as np\n"
      ]
    },
    {
      "cell_type": "code",
      "source": [
        "class SigmoidPerceptron:\n",
        "  def __init__(self, input_size):\n",
        "    self.weight = np.random.randn(input_size)\n",
        "    self.bias = np.random.randn(1)\n",
        "\n",
        "  def Sigmoid(self, z):\n",
        "    return 1 / (1 + np.exp(-z))\n",
        "\n",
        "  def predict(self, input):\n",
        "    weighted_sum = np.dot(self.weight, input) + self.bias\n",
        "    return self.Sigmoid(weighted_sum)\n",
        "\n",
        "  def fit(self, input, targets, learning_rate, num_epoch):\n",
        "    num_example = input.shape[0]\n",
        "    for epoch in range(num_epoch):\n",
        "      for i in range(num_example):\n",
        "        input_vector = input[i]\n",
        "        target = targets[i]\n",
        "        prediction = self.predict(input_vector)\n",
        "        error = target - prediction\n",
        "        gradient_weight = error * prediction * (1 - prediction) * input_vector\n",
        "        gradient_bias = error * prediction * (1 - prediction)\n",
        "        self.weight += learning_rate * gradient_weight\n",
        "        self.bias += learning_rate * gradient_bias\n",
        "\n",
        "\n",
        "  def evaluate(self):\n",
        "    correct = 0\n",
        "\n",
        "    for input_vector, target in zip(input, targets):\n",
        "      prediction = self.predict(input_vector)\n",
        "      if prediction >= 0.5 and target == 1:\n",
        "        correct += 1\n",
        "      elif prediction < 0.5 and target == 0:\n",
        "        correct += 1\n",
        "\n",
        "      accuracy = correct / len(input)\n",
        "    return accuracy"
      ],
      "metadata": {
        "id": "VsD9QTw9PBcz"
      },
      "execution_count": 3,
      "outputs": []
    },
    {
      "cell_type": "code",
      "source": [
        "model = SigmoidPerceptron()\n",
        "model.fit()"
      ],
      "metadata": {
        "id": "uY5PiLQUPBjy"
      },
      "execution_count": null,
      "outputs": []
    },
    {
      "cell_type": "code",
      "source": [
        "list1 = [10, 20, 30, 40, 50]\n",
        "list2 = [0.1, 0.2, 0.3, 0.4, 0.5]\n",
        "\n",
        "for val1, val2 in zip(list1, list2):\n",
        "  print(val1, val2)"
      ],
      "metadata": {
        "colab": {
          "base_uri": "https://localhost:8080/"
        },
        "id": "Chw31aHoPBnK",
        "outputId": "4ff61f70-d52d-4c1f-b4c7-7b02eb72faa1"
      },
      "execution_count": 4,
      "outputs": [
        {
          "output_type": "stream",
          "name": "stdout",
          "text": [
            "10 0.1\n",
            "20 0.2\n",
            "30 0.3\n",
            "40 0.4\n",
            "50 0.5\n"
          ]
        }
      ]
    },
    {
      "cell_type": "code",
      "source": [],
      "metadata": {
        "id": "lioRN1kOPBqp"
      },
      "execution_count": null,
      "outputs": []
    },
    {
      "cell_type": "code",
      "source": [],
      "metadata": {
        "id": "RFAPo_XAPBuT"
      },
      "execution_count": null,
      "outputs": []
    }
  ]
}